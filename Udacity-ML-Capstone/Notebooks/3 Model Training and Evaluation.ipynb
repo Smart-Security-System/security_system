{
 "cells": [
  {
   "cell_type": "markdown",
   "metadata": {},
   "source": [
    "# Classifying Urban sounds using Deep Learning\n",
    "\n",
    "## 3 Model Training and Evaluation "
   ]
  },
  {
   "cell_type": "markdown",
   "metadata": {},
   "source": [
    "### Load Preprocessed data "
   ]
  },
  {
   "cell_type": "code",
   "execution_count": 20,
   "metadata": {},
   "outputs": [],
   "source": [
    "# retrieve the preprocessed data from previous notebook\n",
    "\n",
    "%store -r x_train \n",
    "%store -r x_test \n",
    "%store -r y_train \n",
    "%store -r y_test \n",
    "%store -r yy \n",
    "%store -r le"
   ]
  },
  {
   "cell_type": "markdown",
   "metadata": {},
   "source": [
    "### Initial model architecture - MLP\n",
    "\n",
    "We will start with constructing a Multilayer Perceptron (MLP) Neural Network using Keras and a Tensorflow backend. \n",
    "\n",
    "Starting with a `sequential` model so we can build the model layer by layer. \n",
    "\n",
    "We will begin with a simple model architecture, consisting of three layers, an input layer, a hidden layer and an output layer. All three layers will be of the `dense` layer type which is a standard layer type that is used in many cases for neural networks. \n",
    "\n",
    "The first layer will receive the input shape. As each sample contains 40 MFCCs (or columns) we have a shape of (1x40) this means we will start with an input shape of 40. \n",
    "\n",
    "The first two layers will have 256 nodes. The activation function we will be using for our first 2 layers is the `ReLU`, or `Rectified Linear Activation`. This activation function has been proven to work well in neural networks.\n",
    "\n",
    "We will also apply a `Dropout` value of 50% on our first two layers. This will randomly exclude nodes from each update cycle which in turn results in a network that is capable of better generalisation and is less likely to overfit the training data.\n",
    "\n",
    "Our output layer will have 10 nodes (num_labels) which matches the number of possible classifications. The activation is for our output layer is `softmax`. Softmax makes the output sum up to 1 so the output can be interpreted as probabilities. The model will then make its prediction based on which option has the highest probability."
   ]
  },
  {
   "cell_type": "code",
   "execution_count": 21,
   "metadata": {},
   "outputs": [],
   "source": [
    "import numpy as np\n",
    "from keras.models import Sequential\n",
    "from keras.layers import Dense, Dropout, Activation, Flatten\n",
    "from keras.layers import Convolution2D, MaxPooling2D\n",
    "from keras.optimizers import Adam\n",
    "from keras.utils import np_utils\n",
    "from sklearn import metrics \n",
    "\n",
    "num_labels = yy.shape[1]\n",
    "filter_size = 2\n",
    "\n",
    "# Construct model \n",
    "model = Sequential()\n",
    "\n",
    "model.add(Dense(256, input_shape=(40,)))\n",
    "model.add(Activation('relu'))\n",
    "model.add(Dropout(0.5))\n",
    "\n",
    "model.add(Dense(256))\n",
    "model.add(Activation('relu'))\n",
    "model.add(Dropout(0.5))\n",
    "\n",
    "model.add(Dense(num_labels))\n",
    "model.add(Activation('softmax'))"
   ]
  },
  {
   "cell_type": "markdown",
   "metadata": {},
   "source": [
    "### Compiling the model \n",
    "\n",
    "For compiling our model, we will use the following three parameters: \n",
    "\n",
    "* Loss function - we will use `categorical_crossentropy`. This is the most common choice for classification. A lower score indicates that the model is performing better.\n",
    "\n",
    "* Metrics - we will use the `accuracy` metric which will allow us to view the accuracy score on the validation data when we train the model. \n",
    "\n",
    "* Optimizer - here we will use `adam` which is a generally good optimizer for many use cases.\n"
   ]
  },
  {
   "cell_type": "code",
   "execution_count": 22,
   "metadata": {},
   "outputs": [],
   "source": [
    "# Compile the model\n",
    "model.compile(loss='categorical_crossentropy', metrics=['accuracy'], optimizer='adam') "
   ]
  },
  {
   "cell_type": "code",
   "execution_count": 23,
   "metadata": {},
   "outputs": [
    {
     "name": "stdout",
     "output_type": "stream",
     "text": [
      "Model: \"sequential_1\"\n",
      "_________________________________________________________________\n",
      "Layer (type)                 Output Shape              Param #   \n",
      "=================================================================\n",
      "dense_3 (Dense)              (None, 256)               10496     \n",
      "_________________________________________________________________\n",
      "activation_3 (Activation)    (None, 256)               0         \n",
      "_________________________________________________________________\n",
      "dropout_2 (Dropout)          (None, 256)               0         \n",
      "_________________________________________________________________\n",
      "dense_4 (Dense)              (None, 256)               65792     \n",
      "_________________________________________________________________\n",
      "activation_4 (Activation)    (None, 256)               0         \n",
      "_________________________________________________________________\n",
      "dropout_3 (Dropout)          (None, 256)               0         \n",
      "_________________________________________________________________\n",
      "dense_5 (Dense)              (None, 10)                2570      \n",
      "_________________________________________________________________\n",
      "activation_5 (Activation)    (None, 10)                0         \n",
      "=================================================================\n",
      "Total params: 78,858\n",
      "Trainable params: 78,858\n",
      "Non-trainable params: 0\n",
      "_________________________________________________________________\n",
      "Pre-training accuracy: 10.7041%\n"
     ]
    }
   ],
   "source": [
    "# Display model architecture summary \n",
    "model.summary()\n",
    "\n",
    "# Calculate pre-training accuracy \n",
    "score = model.evaluate(x_test, y_test, verbose=0)\n",
    "accuracy = 100*score[1]\n",
    "\n",
    "print(\"Pre-training accuracy: %.4f%%\" % accuracy)"
   ]
  },
  {
   "cell_type": "markdown",
   "metadata": {},
   "source": [
    "### Training \n",
    "\n",
    "Here we will train the model. \n",
    "\n",
    "We will start with 100 epochs which is the number of times the model will cycle through the data. The model will improve on each cycle until it reaches a certain point. \n",
    "\n",
    "We will also start with a low batch size, as having a large batch size can reduce the generalisation ability of the model. "
   ]
  },
  {
   "cell_type": "code",
   "execution_count": 24,
   "metadata": {},
   "outputs": [
    {
     "name": "stdout",
     "output_type": "stream",
     "text": [
      "Epoch 1/100\n",
      "212/219 [============================>.] - ETA: 0s - loss: 9.2607 - accuracy: 0.1848 - ETA: 0s - loss: 12.2699 - accuracy\n",
      "Epoch 00001: val_loss improved from inf to 2.19327, saving model to saved_models\\weights.best.basic_mlp.hdf5\n",
      "219/219 [==============================] - 1s 5ms/step - loss: 9.0652 - accuracy: 0.1851 - val_loss: 2.1933 - val_accuracy: 0.2055\n",
      "Epoch 2/100\n",
      "215/219 [============================>.] - ETA: 0s - loss: 2.2727 - accuracy: 0.2269\n",
      "Epoch 00002: val_loss improved from 2.19327 to 2.07203, saving model to saved_models\\weights.best.basic_mlp.hdf5\n",
      "219/219 [==============================] - 1s 5ms/step - loss: 2.2751 - accuracy: 0.2263 - val_loss: 2.0720 - val_accuracy: 0.2364\n",
      "Epoch 3/100\n",
      "219/219 [==============================] - ETA: 0s - loss: 2.0795 - accuracy: 0.2697\n",
      "Epoch 00003: val_loss improved from 2.07203 to 1.89202, saving model to saved_models\\weights.best.basic_mlp.hdf5\n",
      "219/219 [==============================] - 1s 5ms/step - loss: 2.0795 - accuracy: 0.2697 - val_loss: 1.8920 - val_accuracy: 0.3492\n",
      "Epoch 4/100\n",
      "199/219 [==========================>...] - ETA: 0s - loss: 1.9177 - accuracy: 0.3222\n",
      "Epoch 00004: val_loss improved from 1.89202 to 1.75286, saving model to saved_models\\weights.best.basic_mlp.hdf5\n",
      "219/219 [==============================] - 1s 3ms/step - loss: 1.9185 - accuracy: 0.3230 - val_loss: 1.7529 - val_accuracy: 0.4058\n",
      "Epoch 5/100\n",
      "202/219 [==========================>...] - ETA: 0s - loss: 1.8154 - accuracy: 0.3657\n",
      "Epoch 00005: val_loss improved from 1.75286 to 1.55467, saving model to saved_models\\weights.best.basic_mlp.hdf5\n",
      "219/219 [==============================] - 1s 2ms/step - loss: 1.8092 - accuracy: 0.3699 - val_loss: 1.5547 - val_accuracy: 0.4774\n",
      "Epoch 6/100\n",
      "218/219 [============================>.] - ETA: 0s - loss: 1.7084 - accuracy: 0.3961\n",
      "Epoch 00006: val_loss improved from 1.55467 to 1.47453, saving model to saved_models\\weights.best.basic_mlp.hdf5\n",
      "219/219 [==============================] - 1s 4ms/step - loss: 1.7090 - accuracy: 0.3960 - val_loss: 1.4745 - val_accuracy: 0.5031\n",
      "Epoch 7/100\n",
      "211/219 [===========================>..] - ETA: 0s - loss: 1.6165 - accuracy: 0.4393\n",
      "Epoch 00007: val_loss improved from 1.47453 to 1.36728, saving model to saved_models\\weights.best.basic_mlp.hdf5\n",
      "219/219 [==============================] - 1s 4ms/step - loss: 1.6130 - accuracy: 0.4401 - val_loss: 1.3673 - val_accuracy: 0.5260\n",
      "Epoch 8/100\n",
      "213/219 [============================>.] - ETA: 0s - loss: 1.5171 - accuracy: 0.4674\n",
      "Epoch 00008: val_loss improved from 1.36728 to 1.30677, saving model to saved_models\\weights.best.basic_mlp.hdf5\n",
      "219/219 [==============================] - 1s 3ms/step - loss: 1.5164 - accuracy: 0.4677 - val_loss: 1.3068 - val_accuracy: 0.5598\n",
      "Epoch 9/100\n",
      "219/219 [==============================] - ETA: 0s - loss: 1.4154 - accuracy: 0.5082\n",
      "Epoch 00009: val_loss improved from 1.30677 to 1.21087, saving model to saved_models\\weights.best.basic_mlp.hdf5\n",
      "219/219 [==============================] - 1s 4ms/step - loss: 1.4154 - accuracy: 0.5082 - val_loss: 1.2109 - val_accuracy: 0.5919\n",
      "Epoch 10/100\n",
      "206/219 [===========================>..] - ETA: 0s - loss: 1.3598 - accuracy: 0.5358\n",
      "Epoch 00010: val_loss improved from 1.21087 to 1.08752, saving model to saved_models\\weights.best.basic_mlp.hdf5\n",
      "219/219 [==============================] - 1s 3ms/step - loss: 1.3570 - accuracy: 0.5357 - val_loss: 1.0875 - val_accuracy: 0.6365\n",
      "Epoch 11/100\n",
      "197/219 [=========================>....] - ETA: 0s - loss: 1.2744 - accuracy: 0.5595\n",
      "Epoch 00011: val_loss improved from 1.08752 to 1.04381, saving model to saved_models\\weights.best.basic_mlp.hdf5\n",
      "219/219 [==============================] - 1s 3ms/step - loss: 1.2739 - accuracy: 0.5575 - val_loss: 1.0438 - val_accuracy: 0.6480\n",
      "Epoch 12/100\n",
      "219/219 [==============================] - ETA: 0s - loss: 1.2285 - accuracy: 0.5804\n",
      "Epoch 00012: val_loss improved from 1.04381 to 1.00121, saving model to saved_models\\weights.best.basic_mlp.hdf5\n",
      "219/219 [==============================] - 1s 3ms/step - loss: 1.2285 - accuracy: 0.5804 - val_loss: 1.0012 - val_accuracy: 0.6537\n",
      "Epoch 13/100\n",
      "207/219 [===========================>..] - ETA: 0s - loss: 1.1636 - accuracy: 0.5963\n",
      "Epoch 00013: val_loss improved from 1.00121 to 0.95220, saving model to saved_models\\weights.best.basic_mlp.hdf5\n",
      "219/219 [==============================] - 1s 2ms/step - loss: 1.1653 - accuracy: 0.5957 - val_loss: 0.9522 - val_accuracy: 0.6812\n",
      "Epoch 14/100\n",
      "208/219 [===========================>..] - ETA: 0s - loss: 1.1557 - accuracy: 0.6083\n",
      "Epoch 00014: val_loss improved from 0.95220 to 0.91310, saving model to saved_models\\weights.best.basic_mlp.hdf5\n",
      "219/219 [==============================] - 1s 3ms/step - loss: 1.1513 - accuracy: 0.6107 - val_loss: 0.9131 - val_accuracy: 0.7178\n",
      "Epoch 15/100\n",
      "202/219 [==========================>...] - ETA: 0s - loss: 1.1188 - accuracy: 0.6211\n",
      "Epoch 00015: val_loss improved from 0.91310 to 0.86947, saving model to saved_models\\weights.best.basic_mlp.hdf5\n",
      "219/219 [==============================] - 1s 3ms/step - loss: 1.1193 - accuracy: 0.6188 - val_loss: 0.8695 - val_accuracy: 0.7178\n",
      "Epoch 16/100\n",
      "204/219 [==========================>...] - ETA: 0s - loss: 1.0840 - accuracy: 0.6221\n",
      "Epoch 00016: val_loss improved from 0.86947 to 0.84335, saving model to saved_models\\weights.best.basic_mlp.hdf5\n",
      "219/219 [==============================] - 1s 3ms/step - loss: 1.0750 - accuracy: 0.6255 - val_loss: 0.8433 - val_accuracy: 0.7235\n",
      "Epoch 17/100\n",
      "218/219 [============================>.] - ETA: 0s - loss: 1.0200 - accuracy: 0.6545\n",
      "Epoch 00017: val_loss improved from 0.84335 to 0.82762, saving model to saved_models\\weights.best.basic_mlp.hdf5\n",
      "219/219 [==============================] - 1s 3ms/step - loss: 1.0202 - accuracy: 0.6544 - val_loss: 0.8276 - val_accuracy: 0.7487\n",
      "Epoch 18/100\n",
      "212/219 [============================>.] - ETA: 0s - loss: 0.9923 - accuracy: 0.6667 ETA: 0s - loss: 0.9973 - accuracy: 0.\n",
      "Epoch 00018: val_loss improved from 0.82762 to 0.78638, saving model to saved_models\\weights.best.basic_mlp.hdf5\n",
      "219/219 [==============================] - 1s 3ms/step - loss: 0.9941 - accuracy: 0.6666 - val_loss: 0.7864 - val_accuracy: 0.7459\n",
      "Epoch 19/100\n",
      "206/219 [===========================>..] - ETA: 0s - loss: 0.9868 - accuracy: 0.6669\n",
      "Epoch 00019: val_loss improved from 0.78638 to 0.77898, saving model to saved_models\\weights.best.basic_mlp.hdf5\n",
      "219/219 [==============================] - 1s 3ms/step - loss: 0.9907 - accuracy: 0.6651 - val_loss: 0.7790 - val_accuracy: 0.7584\n",
      "Epoch 20/100\n",
      "201/219 [==========================>...] - ETA: 0s - loss: 0.9478 - accuracy: 0.6729\n",
      "Epoch 00020: val_loss improved from 0.77898 to 0.74353, saving model to saved_models\\weights.best.basic_mlp.hdf5\n",
      "219/219 [==============================] - 1s 3ms/step - loss: 0.9480 - accuracy: 0.6752 - val_loss: 0.7435 - val_accuracy: 0.7756\n",
      "Epoch 21/100\n",
      "216/219 [============================>.] - ETA: 0s - loss: 0.9442 - accuracy: 0.6901\n",
      "Epoch 00021: val_loss improved from 0.74353 to 0.74241, saving model to saved_models\\weights.best.basic_mlp.hdf5\n",
      "219/219 [==============================] - 1s 3ms/step - loss: 0.9433 - accuracy: 0.6905 - val_loss: 0.7424 - val_accuracy: 0.7768\n",
      "Epoch 22/100\n",
      "216/219 [============================>.] - ETA: 0s - loss: 0.8861 - accuracy: 0.7036 ETA: 0s - loss: 0.9017 - accuracy: \n",
      "Epoch 00022: val_loss improved from 0.74241 to 0.70680, saving model to saved_models\\weights.best.basic_mlp.hdf5\n",
      "219/219 [==============================] - 1s 3ms/step - loss: 0.8874 - accuracy: 0.7029 - val_loss: 0.7068 - val_accuracy: 0.7945\n",
      "Epoch 23/100\n",
      "204/219 [==========================>...] - ETA: 0s - loss: 0.8745 - accuracy: 0.7008\n",
      "Epoch 00023: val_loss improved from 0.70680 to 0.69992, saving model to saved_models\\weights.best.basic_mlp.hdf5\n",
      "219/219 [==============================] - 1s 3ms/step - loss: 0.8739 - accuracy: 0.7002 - val_loss: 0.6999 - val_accuracy: 0.7985\n",
      "Epoch 24/100\n",
      "201/219 [==========================>...] - ETA: 0s - loss: 0.8760 - accuracy: 0.6942 ETA: 0s - loss: 0.8560 - accura\n",
      "Epoch 00024: val_loss improved from 0.69992 to 0.67916, saving model to saved_models\\weights.best.basic_mlp.hdf5\n",
      "219/219 [==============================] - 1s 3ms/step - loss: 0.8706 - accuracy: 0.6965 - val_loss: 0.6792 - val_accuracy: 0.7888\n"
     ]
    },
    {
     "name": "stdout",
     "output_type": "stream",
     "text": [
      "Epoch 25/100\n",
      "219/219 [==============================] - ETA: 0s - loss: 0.8496 - accuracy: 0.7087\n",
      "Epoch 00025: val_loss improved from 0.67916 to 0.65048, saving model to saved_models\\weights.best.basic_mlp.hdf5\n",
      "219/219 [==============================] - 1s 3ms/step - loss: 0.8496 - accuracy: 0.7087 - val_loss: 0.6505 - val_accuracy: 0.8025\n",
      "Epoch 26/100\n",
      "207/219 [===========================>..] - ETA: 0s - loss: 0.8293 - accuracy: 0.7181\n",
      "Epoch 00026: val_loss improved from 0.65048 to 0.62368, saving model to saved_models\\weights.best.basic_mlp.hdf5\n",
      "219/219 [==============================] - 1s 3ms/step - loss: 0.8289 - accuracy: 0.7194 - val_loss: 0.6237 - val_accuracy: 0.8071\n",
      "Epoch 27/100\n",
      "200/219 [==========================>...] - ETA: 0s - loss: 0.8109 - accuracy: 0.7183\n",
      "Epoch 00027: val_loss did not improve from 0.62368\n",
      "219/219 [==============================] - 1s 2ms/step - loss: 0.8151 - accuracy: 0.7174 - val_loss: 0.6364 - val_accuracy: 0.8019\n",
      "Epoch 28/100\n",
      "212/219 [============================>.] - ETA: 0s - loss: 0.7965 - accuracy: 0.7242\n",
      "Epoch 00028: val_loss improved from 0.62368 to 0.59600, saving model to saved_models\\weights.best.basic_mlp.hdf5\n",
      "219/219 [==============================] - 1s 3ms/step - loss: 0.7951 - accuracy: 0.7247 - val_loss: 0.5960 - val_accuracy: 0.8163\n",
      "Epoch 29/100\n",
      "218/219 [============================>.] - ETA: 0s - loss: 0.7825 - accuracy: 0.7292\n",
      "Epoch 00029: val_loss improved from 0.59600 to 0.58960, saving model to saved_models\\weights.best.basic_mlp.hdf5\n",
      "219/219 [==============================] - 1s 3ms/step - loss: 0.7822 - accuracy: 0.7293 - val_loss: 0.5896 - val_accuracy: 0.8077\n",
      "Epoch 30/100\n",
      "192/219 [=========================>....] - ETA: 0s - loss: 0.7608 - accuracy: 0.7428\n",
      "Epoch 00030: val_loss improved from 0.58960 to 0.57147, saving model to saved_models\\weights.best.basic_mlp.hdf5\n",
      "219/219 [==============================] - 1s 3ms/step - loss: 0.7574 - accuracy: 0.7437 - val_loss: 0.5715 - val_accuracy: 0.8237\n",
      "Epoch 31/100\n",
      "208/219 [===========================>..] - ETA: 0s - loss: 0.7667 - accuracy: 0.7390\n",
      "Epoch 00031: val_loss did not improve from 0.57147\n",
      "219/219 [==============================] - 1s 3ms/step - loss: 0.7660 - accuracy: 0.7394 - val_loss: 0.5857 - val_accuracy: 0.8283\n",
      "Epoch 32/100\n",
      "209/219 [===========================>..] - ETA: 0s - loss: 0.7574 - accuracy: 0.7413\n",
      "Epoch 00032: val_loss did not improve from 0.57147\n",
      "219/219 [==============================] - 1s 2ms/step - loss: 0.7572 - accuracy: 0.7427 - val_loss: 0.5766 - val_accuracy: 0.8254\n",
      "Epoch 33/100\n",
      "209/219 [===========================>..] - ETA: 0s - loss: 0.7365 - accuracy: 0.7530 ETA: 0s - loss: 0.7509 - accuracy:  - ETA: 0s - loss: 0.7403 - accuracy: 0.75\n",
      "Epoch 00033: val_loss did not improve from 0.57147\n",
      "219/219 [==============================] - 1s 2ms/step - loss: 0.7393 - accuracy: 0.7522 - val_loss: 0.5722 - val_accuracy: 0.8277\n",
      "Epoch 34/100\n",
      "213/219 [============================>.] - ETA: 0s - loss: 0.7398 - accuracy: 0.7475\n",
      "Epoch 00034: val_loss did not improve from 0.57147\n",
      "219/219 [==============================] - 1s 2ms/step - loss: 0.7387 - accuracy: 0.7485 - val_loss: 0.5779 - val_accuracy: 0.8203\n",
      "Epoch 35/100\n",
      "214/219 [============================>.] - ETA: 0s - loss: 0.7199 - accuracy: 0.7582\n",
      "Epoch 00035: val_loss improved from 0.57147 to 0.55984, saving model to saved_models\\weights.best.basic_mlp.hdf5\n",
      "219/219 [==============================] - 1s 3ms/step - loss: 0.7215 - accuracy: 0.7578 - val_loss: 0.5598 - val_accuracy: 0.8254\n",
      "Epoch 36/100\n",
      "197/219 [=========================>....] - ETA: 0s - loss: 0.7411 - accuracy: 0.7483\n",
      "Epoch 00036: val_loss did not improve from 0.55984\n",
      "219/219 [==============================] - 1s 2ms/step - loss: 0.7380 - accuracy: 0.7506 - val_loss: 0.5764 - val_accuracy: 0.8288\n",
      "Epoch 37/100\n",
      "214/219 [============================>.] - ETA: 0s - loss: 0.7143 - accuracy: 0.7599\n",
      "Epoch 00037: val_loss improved from 0.55984 to 0.54055, saving model to saved_models\\weights.best.basic_mlp.hdf5\n",
      "219/219 [==============================] - 1s 3ms/step - loss: 0.7133 - accuracy: 0.7603 - val_loss: 0.5405 - val_accuracy: 0.8317\n",
      "Epoch 38/100\n",
      "199/219 [==========================>...] - ETA: 0s - loss: 0.6918 - accuracy: 0.7643 ETA: 0s - loss: 0.6829 - accuracy\n",
      "Epoch 00038: val_loss did not improve from 0.54055\n",
      "219/219 [==============================] - 1s 3ms/step - loss: 0.6863 - accuracy: 0.7671 - val_loss: 0.5521 - val_accuracy: 0.8306\n",
      "Epoch 39/100\n",
      "216/219 [============================>.] - ETA: 0s - loss: 0.6791 - accuracy: 0.7685\n",
      "Epoch 00039: val_loss improved from 0.54055 to 0.53280, saving model to saved_models\\weights.best.basic_mlp.hdf5\n",
      "219/219 [==============================] - 1s 3ms/step - loss: 0.6787 - accuracy: 0.7688 - val_loss: 0.5328 - val_accuracy: 0.8340\n",
      "Epoch 40/100\n",
      "203/219 [==========================>...] - ETA: 0s - loss: 0.6577 - accuracy: 0.77 - ETA: 0s - loss: 0.6563 - accuracy: 0.7728\n",
      "Epoch 00040: val_loss improved from 0.53280 to 0.52596, saving model to saved_models\\weights.best.basic_mlp.hdf5\n",
      "219/219 [==============================] - 1s 3ms/step - loss: 0.6577 - accuracy: 0.7729 - val_loss: 0.5260 - val_accuracy: 0.8317\n",
      "Epoch 41/100\n",
      "198/219 [==========================>...] - ETA: 0s - loss: 0.6851 - accuracy: 0.7682\n",
      "Epoch 00041: val_loss improved from 0.52596 to 0.52241, saving model to saved_models\\weights.best.basic_mlp.hdf5\n",
      "219/219 [==============================] - 1s 3ms/step - loss: 0.6864 - accuracy: 0.7665 - val_loss: 0.5224 - val_accuracy: 0.8329\n",
      "Epoch 42/100\n",
      "202/219 [==========================>...] - ETA: 0s - loss: 0.6667 - accuracy: 0.7769\n",
      "Epoch 00042: val_loss did not improve from 0.52241\n",
      "219/219 [==============================] - 1s 2ms/step - loss: 0.6691 - accuracy: 0.7747 - val_loss: 0.5423 - val_accuracy: 0.8266\n",
      "Epoch 43/100\n",
      "219/219 [==============================] - ETA: 0s - loss: 0.6591 - accuracy: 0.7748 ETA: 0s - loss: 0.6202 - ac\n",
      "Epoch 00043: val_loss improved from 0.52241 to 0.52159, saving model to saved_models\\weights.best.basic_mlp.hdf5\n",
      "219/219 [==============================] - 1s 3ms/step - loss: 0.6591 - accuracy: 0.7748 - val_loss: 0.5216 - val_accuracy: 0.8443\n",
      "Epoch 44/100\n",
      "214/219 [============================>.] - ETA: 0s - loss: 0.6520 - accuracy: 0.7760\n",
      "Epoch 00044: val_loss improved from 0.52159 to 0.51371, saving model to saved_models\\weights.best.basic_mlp.hdf5\n",
      "219/219 [==============================] - 1s 3ms/step - loss: 0.6523 - accuracy: 0.7761 - val_loss: 0.5137 - val_accuracy: 0.8523\n",
      "Epoch 45/100\n",
      "211/219 [===========================>..] - ETA: 0s - loss: 0.6497 - accuracy: 0.7789\n",
      "Epoch 00045: val_loss did not improve from 0.51371\n",
      "219/219 [==============================] - 1s 3ms/step - loss: 0.6476 - accuracy: 0.7805 - val_loss: 0.5212 - val_accuracy: 0.8466\n",
      "Epoch 46/100\n",
      "204/219 [==========================>...] - ETA: 0s - loss: 0.6614 - accuracy: 0.7829\n",
      "Epoch 00046: val_loss did not improve from 0.51371\n",
      "219/219 [==============================] - 1s 3ms/step - loss: 0.6599 - accuracy: 0.7835 - val_loss: 0.5226 - val_accuracy: 0.8489\n",
      "Epoch 47/100\n",
      "198/219 [==========================>...] - ETA: 0s - loss: 0.6698 - accuracy: 0.7685\n",
      "Epoch 00047: val_loss improved from 0.51371 to 0.50541, saving model to saved_models\\weights.best.basic_mlp.hdf5\n",
      "219/219 [==============================] - 1s 3ms/step - loss: 0.6682 - accuracy: 0.7681 - val_loss: 0.5054 - val_accuracy: 0.8472\n",
      "Epoch 48/100\n",
      "216/219 [============================>.] - ETA: 0s - loss: 0.6383 - accuracy: 0.7827\n",
      "Epoch 00048: val_loss improved from 0.50541 to 0.49485, saving model to saved_models\\weights.best.basic_mlp.hdf5\n",
      "219/219 [==============================] - 1s 3ms/step - loss: 0.6404 - accuracy: 0.7822 - val_loss: 0.4949 - val_accuracy: 0.8500\n",
      "Epoch 49/100\n",
      "214/219 [============================>.] - ETA: 0s - loss: 0.6316 - accuracy: 0.7849 ETA: 0s - loss: 0.5871 - accu\n",
      "Epoch 00049: val_loss did not improve from 0.49485\n",
      "219/219 [==============================] - 1s 3ms/step - loss: 0.6304 - accuracy: 0.7850 - val_loss: 0.5018 - val_accuracy: 0.8426\n",
      "Epoch 50/100\n",
      "205/219 [===========================>..] - ETA: 0s - loss: 0.6155 - accuracy: 0.7936\n",
      "Epoch 00050: val_loss did not improve from 0.49485\n",
      "219/219 [==============================] - 1s 2ms/step - loss: 0.6209 - accuracy: 0.7918 - val_loss: 0.4953 - val_accuracy: 0.8420\n"
     ]
    },
    {
     "name": "stdout",
     "output_type": "stream",
     "text": [
      "Epoch 51/100\n",
      "196/219 [=========================>....] - ETA: 0s - loss: 0.6443 - accuracy: 0.7865\n",
      "Epoch 00051: val_loss improved from 0.49485 to 0.49365, saving model to saved_models\\weights.best.basic_mlp.hdf5\n",
      "219/219 [==============================] - 1s 2ms/step - loss: 0.6448 - accuracy: 0.7870 - val_loss: 0.4936 - val_accuracy: 0.8546\n",
      "Epoch 52/100\n",
      "193/219 [=========================>....] - ETA: 0s - loss: 0.6249 - accuracy: 0.7868\n",
      "Epoch 00052: val_loss improved from 0.49365 to 0.48929, saving model to saved_models\\weights.best.basic_mlp.hdf5\n",
      "219/219 [==============================] - 1s 3ms/step - loss: 0.6235 - accuracy: 0.7878 - val_loss: 0.4893 - val_accuracy: 0.8512\n",
      "Epoch 53/100\n",
      "218/219 [============================>.] - ETA: 0s - loss: 0.6032 - accuracy: 0.79 - ETA: 0s - loss: 0.6045 - accuracy: 0.7921\n",
      "Epoch 00053: val_loss did not improve from 0.48929\n",
      "219/219 [==============================] - 1s 3ms/step - loss: 0.6043 - accuracy: 0.7921 - val_loss: 0.5039 - val_accuracy: 0.8552\n",
      "Epoch 54/100\n",
      "202/219 [==========================>...] - ETA: 0s - loss: 0.6016 - accuracy: 0.8001\n",
      "Epoch 00054: val_loss improved from 0.48929 to 0.48213, saving model to saved_models\\weights.best.basic_mlp.hdf5\n",
      "219/219 [==============================] - 1s 3ms/step - loss: 0.6065 - accuracy: 0.7994 - val_loss: 0.4821 - val_accuracy: 0.8540\n",
      "Epoch 55/100\n",
      "210/219 [===========================>..] - ETA: 0s - loss: 0.6038 - accuracy: 0.7929\n",
      "Epoch 00055: val_loss improved from 0.48213 to 0.47592, saving model to saved_models\\weights.best.basic_mlp.hdf5\n",
      "219/219 [==============================] - 1s 3ms/step - loss: 0.6025 - accuracy: 0.7938 - val_loss: 0.4759 - val_accuracy: 0.8586\n",
      "Epoch 56/100\n",
      "213/219 [============================>.] - ETA: 0s - loss: 0.6058 - accuracy: 0.7956\n",
      "Epoch 00056: val_loss improved from 0.47592 to 0.47552, saving model to saved_models\\weights.best.basic_mlp.hdf5\n",
      "219/219 [==============================] - 1s 3ms/step - loss: 0.6094 - accuracy: 0.7948 - val_loss: 0.4755 - val_accuracy: 0.8592\n",
      "Epoch 57/100\n",
      "204/219 [==========================>...] - ETA: 0s - loss: 0.6241 - accuracy: 0.7924\n",
      "Epoch 00057: val_loss improved from 0.47552 to 0.46154, saving model to saved_models\\weights.best.basic_mlp.hdf5\n",
      "219/219 [==============================] - 1s 3ms/step - loss: 0.6204 - accuracy: 0.7930 - val_loss: 0.4615 - val_accuracy: 0.8620\n",
      "Epoch 58/100\n",
      "206/219 [===========================>..] - ETA: 0s - loss: 0.5824 - accuracy: 0.7982\n",
      "Epoch 00058: val_loss did not improve from 0.46154\n",
      "219/219 [==============================] - 1s 3ms/step - loss: 0.5910 - accuracy: 0.7970 - val_loss: 0.4918 - val_accuracy: 0.8500\n",
      "Epoch 59/100\n",
      "209/219 [===========================>..] - ETA: 0s - loss: 0.5909 - accuracy: 0.8091\n",
      "Epoch 00059: val_loss did not improve from 0.46154\n",
      "219/219 [==============================] - 1s 4ms/step - loss: 0.5926 - accuracy: 0.8084 - val_loss: 0.4908 - val_accuracy: 0.8546\n",
      "Epoch 60/100\n",
      "208/219 [===========================>..] - ETA: 0s - loss: 0.6147 - accuracy: 0.7886\n",
      "Epoch 00060: val_loss did not improve from 0.46154\n",
      "219/219 [==============================] - 1s 3ms/step - loss: 0.6181 - accuracy: 0.7887 - val_loss: 0.4729 - val_accuracy: 0.8535\n",
      "Epoch 61/100\n",
      "216/219 [============================>.] - ETA: 0s - loss: 0.6122 - accuracy: 0.7937\n",
      "Epoch 00061: val_loss did not improve from 0.46154\n",
      "219/219 [==============================] - 1s 4ms/step - loss: 0.6123 - accuracy: 0.7933 - val_loss: 0.4813 - val_accuracy: 0.8626\n",
      "Epoch 62/100\n",
      "213/219 [============================>.] - ETA: 0s - loss: 0.5913 - accuracy: 0.8021\n",
      "Epoch 00062: val_loss did not improve from 0.46154\n",
      "219/219 [==============================] - 1s 4ms/step - loss: 0.5913 - accuracy: 0.8023 - val_loss: 0.4874 - val_accuracy: 0.8638\n",
      "Epoch 63/100\n",
      "217/219 [============================>.] - ETA: 0s - loss: 0.5708 - accuracy: 0.8063\n",
      "Epoch 00063: val_loss did not improve from 0.46154\n",
      "219/219 [==============================] - 1s 4ms/step - loss: 0.5710 - accuracy: 0.8062 - val_loss: 0.4776 - val_accuracy: 0.8563\n",
      "Epoch 64/100\n",
      "214/219 [============================>.] - ETA: 0s - loss: 0.5740 - accuracy: 0.8033\n",
      "Epoch 00064: val_loss did not improve from 0.46154\n",
      "219/219 [==============================] - 1s 3ms/step - loss: 0.5756 - accuracy: 0.8034 - val_loss: 0.4696 - val_accuracy: 0.8649\n",
      "Epoch 65/100\n",
      "205/219 [===========================>..] - ETA: 0s - loss: 0.5835 - accuracy: 0.8040\n",
      "Epoch 00065: val_loss did not improve from 0.46154\n",
      "219/219 [==============================] - 1s 4ms/step - loss: 0.5837 - accuracy: 0.8040 - val_loss: 0.4905 - val_accuracy: 0.8580\n",
      "Epoch 66/100\n",
      "209/219 [===========================>..] - ETA: 0s - loss: 0.5667 - accuracy: 0.8080\n",
      "Epoch 00066: val_loss did not improve from 0.46154\n",
      "219/219 [==============================] - 1s 4ms/step - loss: 0.5683 - accuracy: 0.8082 - val_loss: 0.4650 - val_accuracy: 0.8638\n",
      "Epoch 67/100\n",
      "203/219 [==========================>...] - ETA: 0s - loss: 0.5728 - accuracy: 0.8040\n",
      "Epoch 00067: val_loss did not improve from 0.46154\n",
      "219/219 [==============================] - 1s 3ms/step - loss: 0.5717 - accuracy: 0.8037 - val_loss: 0.4892 - val_accuracy: 0.8500\n",
      "Epoch 68/100\n",
      "207/219 [===========================>..] - ETA: 0s - loss: 0.5399 - accuracy: 0.8202\n",
      "Epoch 00068: val_loss improved from 0.46154 to 0.45874, saving model to saved_models\\weights.best.basic_mlp.hdf5\n",
      "219/219 [==============================] - 1s 3ms/step - loss: 0.5411 - accuracy: 0.8196 - val_loss: 0.4587 - val_accuracy: 0.8661\n",
      "Epoch 69/100\n",
      "202/219 [==========================>...] - ETA: 0s - loss: 0.6062 - accuracy: 0.8012\n",
      "Epoch 00069: val_loss did not improve from 0.45874\n",
      "219/219 [==============================] - 1s 3ms/step - loss: 0.6055 - accuracy: 0.8007 - val_loss: 0.4744 - val_accuracy: 0.8712\n",
      "Epoch 70/100\n",
      "203/219 [==========================>...] - ETA: 0s - loss: 0.5638 - accuracy: 0.8107\n",
      "Epoch 00070: val_loss improved from 0.45874 to 0.45433, saving model to saved_models\\weights.best.basic_mlp.hdf5\n",
      "219/219 [==============================] - 1s 3ms/step - loss: 0.5635 - accuracy: 0.8117 - val_loss: 0.4543 - val_accuracy: 0.8563\n",
      "Epoch 71/100\n",
      "198/219 [==========================>...] - ETA: 0s - loss: 0.5527 - accuracy: 0.8103\n",
      "Epoch 00071: val_loss did not improve from 0.45433\n",
      "219/219 [==============================] - 1s 3ms/step - loss: 0.5546 - accuracy: 0.8106 - val_loss: 0.4781 - val_accuracy: 0.8649\n",
      "Epoch 72/100\n",
      "197/219 [=========================>....] - ETA: 0s - loss: 0.5836 - accuracy: 0.8079\n",
      "Epoch 00072: val_loss did not improve from 0.45433\n",
      "219/219 [==============================] - 1s 3ms/step - loss: 0.5858 - accuracy: 0.8073 - val_loss: 0.4670 - val_accuracy: 0.8603\n",
      "Epoch 73/100\n",
      "202/219 [==========================>...] - ETA: 0s - loss: 0.5803 - accuracy: 0.8086\n",
      "Epoch 00073: val_loss did not improve from 0.45433\n",
      "219/219 [==============================] - 1s 3ms/step - loss: 0.5792 - accuracy: 0.8093 - val_loss: 0.4846 - val_accuracy: 0.8620\n",
      "Epoch 74/100\n",
      "203/219 [==========================>...] - ETA: 0s - loss: 0.5564 - accuracy: 0.8102\n",
      "Epoch 00074: val_loss did not improve from 0.45433\n",
      "219/219 [==============================] - 1s 2ms/step - loss: 0.5535 - accuracy: 0.8110 - val_loss: 0.4583 - val_accuracy: 0.8672\n",
      "Epoch 75/100\n",
      "202/219 [==========================>...] - ETA: 0s - loss: 0.5652 - accuracy: 0.8122\n",
      "Epoch 00075: val_loss did not improve from 0.45433\n",
      "219/219 [==============================] - 1s 3ms/step - loss: 0.5636 - accuracy: 0.8119 - val_loss: 0.4747 - val_accuracy: 0.8603\n",
      "Epoch 76/100\n",
      "213/219 [============================>.] - ETA: 0s - loss: 0.5551 - accuracy: 0.8116 ETA: 0s - loss: 0.5742 - \n",
      "Epoch 00076: val_loss improved from 0.45433 to 0.45128, saving model to saved_models\\weights.best.basic_mlp.hdf5\n",
      "219/219 [==============================] - 1s 3ms/step - loss: 0.5563 - accuracy: 0.8106 - val_loss: 0.4513 - val_accuracy: 0.8683\n",
      "Epoch 77/100\n",
      "215/219 [============================>.] - ETA: 0s - loss: 0.5249 - accuracy: 0.8224\n",
      "Epoch 00077: val_loss did not improve from 0.45128\n",
      "219/219 [==============================] - 1s 3ms/step - loss: 0.5249 - accuracy: 0.8219 - val_loss: 0.4544 - val_accuracy: 0.8575\n",
      "Epoch 78/100\n"
     ]
    },
    {
     "name": "stdout",
     "output_type": "stream",
     "text": [
      "209/219 [===========================>..] - ETA: 0s - loss: 0.5636 - accuracy: 0.8106\n",
      "Epoch 00078: val_loss did not improve from 0.45128\n",
      "219/219 [==============================] - 1s 2ms/step - loss: 0.5603 - accuracy: 0.8110 - val_loss: 0.4663 - val_accuracy: 0.8575\n",
      "Epoch 79/100\n",
      "206/219 [===========================>..] - ETA: 0s - loss: 0.5404 - accuracy: 0.8125\n",
      "Epoch 00079: val_loss did not improve from 0.45128\n",
      "219/219 [==============================] - 1s 3ms/step - loss: 0.5435 - accuracy: 0.8137 - val_loss: 0.4561 - val_accuracy: 0.8741\n",
      "Epoch 80/100\n",
      "210/219 [===========================>..] - ETA: 0s - loss: 0.5447 - accuracy: 0.8174\n",
      "Epoch 00080: val_loss improved from 0.45128 to 0.43473, saving model to saved_models\\weights.best.basic_mlp.hdf5\n",
      "219/219 [==============================] - 1s 3ms/step - loss: 0.5437 - accuracy: 0.8172 - val_loss: 0.4347 - val_accuracy: 0.8666\n",
      "Epoch 81/100\n",
      "208/219 [===========================>..] - ETA: 0s - loss: 0.5355 - accuracy: 0.8149\n",
      "Epoch 00081: val_loss improved from 0.43473 to 0.42638, saving model to saved_models\\weights.best.basic_mlp.hdf5\n",
      "219/219 [==============================] - 1s 3ms/step - loss: 0.5337 - accuracy: 0.8155 - val_loss: 0.4264 - val_accuracy: 0.8786\n",
      "Epoch 82/100\n",
      "212/219 [============================>.] - ETA: 0s - loss: 0.5532 - accuracy: 0.8098\n",
      "Epoch 00082: val_loss did not improve from 0.42638\n",
      "219/219 [==============================] - 1s 3ms/step - loss: 0.5516 - accuracy: 0.8103 - val_loss: 0.4324 - val_accuracy: 0.8775\n",
      "Epoch 83/100\n",
      "210/219 [===========================>..] - ETA: 0s - loss: 0.5393 - accuracy: 0.8188\n",
      "Epoch 00083: val_loss did not improve from 0.42638\n",
      "219/219 [==============================] - 1s 3ms/step - loss: 0.5371 - accuracy: 0.8193 - val_loss: 0.4288 - val_accuracy: 0.8718\n",
      "Epoch 84/100\n",
      "216/219 [============================>.] - ETA: 0s - loss: 0.5340 - accuracy: 0.8213 ETA: 0s - loss: 0.5383 - accuracy:  - ETA: 0s - loss: 0.5314 - accuracy: 0.82 - ETA: 0s - loss: 0.5368 - accuracy\n",
      "Epoch 00084: val_loss did not improve from 0.42638\n",
      "219/219 [==============================] - 1s 3ms/step - loss: 0.5331 - accuracy: 0.8216 - val_loss: 0.4333 - val_accuracy: 0.8741\n",
      "Epoch 85/100\n",
      "215/219 [============================>.] - ETA: 0s - loss: 0.5398 - accuracy: 0.8231\n",
      "Epoch 00085: val_loss did not improve from 0.42638\n",
      "219/219 [==============================] - 0s 2ms/step - loss: 0.5384 - accuracy: 0.8235 - val_loss: 0.4551 - val_accuracy: 0.8718\n",
      "Epoch 86/100\n",
      "206/219 [===========================>..] - ETA: 0s - loss: 0.5430 - accuracy: 0.81 - ETA: 0s - loss: 0.5362 - accuracy: 0.8166\n",
      "Epoch 00086: val_loss did not improve from 0.42638\n",
      "219/219 [==============================] - 0s 2ms/step - loss: 0.5396 - accuracy: 0.8163 - val_loss: 0.4555 - val_accuracy: 0.8626\n",
      "Epoch 87/100\n",
      "204/219 [==========================>...] - ETA: 0s - loss: 0.5244 - accuracy: 0.8249\n",
      "Epoch 00087: val_loss did not improve from 0.42638\n",
      "219/219 [==============================] - 0s 2ms/step - loss: 0.5270 - accuracy: 0.8252 - val_loss: 0.4299 - val_accuracy: 0.8712\n",
      "Epoch 88/100\n",
      "209/219 [===========================>..] - ETA: 0s - loss: 0.5092 - accuracy: 0.8286\n",
      "Epoch 00088: val_loss did not improve from 0.42638\n",
      "219/219 [==============================] - 1s 2ms/step - loss: 0.5108 - accuracy: 0.8285 - val_loss: 0.4369 - val_accuracy: 0.8838\n",
      "Epoch 89/100\n",
      "208/219 [===========================>..] - ETA: 0s - loss: 0.5521 - accuracy: 0.8140\n",
      "Epoch 00089: val_loss did not improve from 0.42638\n",
      "219/219 [==============================] - 0s 2ms/step - loss: 0.5575 - accuracy: 0.8117 - val_loss: 0.4595 - val_accuracy: 0.8661\n",
      "Epoch 90/100\n",
      "218/219 [============================>.] - ETA: 0s - loss: 0.5202 - accuracy: 0.8264\n",
      "Epoch 00090: val_loss did not improve from 0.42638\n",
      "219/219 [==============================] - 0s 2ms/step - loss: 0.5206 - accuracy: 0.8265 - val_loss: 0.4410 - val_accuracy: 0.8661\n",
      "Epoch 91/100\n",
      "201/219 [==========================>...] - ETA: 0s - loss: 0.5402 - accuracy: 0.8249\n",
      "Epoch 00091: val_loss did not improve from 0.42638\n",
      "219/219 [==============================] - 0s 2ms/step - loss: 0.5372 - accuracy: 0.8262 - val_loss: 0.4487 - val_accuracy: 0.8666\n",
      "Epoch 92/100\n",
      "188/219 [========================>.....] - ETA: 0s - loss: 0.5330 - accuracy: 0.8261\n",
      "Epoch 00092: val_loss did not improve from 0.42638\n",
      "219/219 [==============================] - 0s 2ms/step - loss: 0.5262 - accuracy: 0.8271 - val_loss: 0.4476 - val_accuracy: 0.8764\n",
      "Epoch 93/100\n",
      "198/219 [==========================>...] - ETA: 0s - loss: 0.5226 - accuracy: 0.8264\n",
      "Epoch 00093: val_loss improved from 0.42638 to 0.42095, saving model to saved_models\\weights.best.basic_mlp.hdf5\n",
      "219/219 [==============================] - 1s 2ms/step - loss: 0.5203 - accuracy: 0.8256 - val_loss: 0.4210 - val_accuracy: 0.8786\n",
      "Epoch 94/100\n",
      "204/219 [==========================>...] - ETA: 0s - loss: 0.5007 - accuracy: 0.8307 ETA: 0s - loss: 0.4833 - accura\n",
      "Epoch 00094: val_loss did not improve from 0.42095\n",
      "219/219 [==============================] - 1s 2ms/step - loss: 0.5023 - accuracy: 0.8296 - val_loss: 0.4427 - val_accuracy: 0.8769\n",
      "Epoch 95/100\n",
      "198/219 [==========================>...] - ETA: 0s - loss: 0.4981 - accuracy: 0.8292 ETA: 0s - loss: 0.4872 - accuracy: 0.83\n",
      "Epoch 00095: val_loss did not improve from 0.42095\n",
      "219/219 [==============================] - 0s 2ms/step - loss: 0.5004 - accuracy: 0.8288 - val_loss: 0.4358 - val_accuracy: 0.8718\n",
      "Epoch 96/100\n",
      "199/219 [==========================>...] - ETA: 0s - loss: 0.5080 - accuracy: 0.8301 ETA: 0s - loss: 0.4897 - accuracy: 0.\n",
      "Epoch 00096: val_loss did not improve from 0.42095\n",
      "219/219 [==============================] - 0s 2ms/step - loss: 0.5016 - accuracy: 0.8305 - val_loss: 0.4308 - val_accuracy: 0.8718\n",
      "Epoch 97/100\n",
      "203/219 [==========================>...] - ETA: 0s - loss: 0.5194 - accuracy: 0.8273\n",
      "Epoch 00097: val_loss did not improve from 0.42095\n",
      "219/219 [==============================] - 0s 2ms/step - loss: 0.5257 - accuracy: 0.8252 - val_loss: 0.4293 - val_accuracy: 0.8706\n",
      "Epoch 98/100\n",
      "210/219 [===========================>..] - ETA: 0s - loss: 0.4944 - accuracy: 0.8293\n",
      "Epoch 00098: val_loss did not improve from 0.42095\n",
      "219/219 [==============================] - 1s 2ms/step - loss: 0.4970 - accuracy: 0.8282 - val_loss: 0.4286 - val_accuracy: 0.8729\n",
      "Epoch 99/100\n",
      "191/219 [=========================>....] - ETA: 0s - loss: 0.5171 - accuracy: 0.8289\n",
      "Epoch 00099: val_loss did not improve from 0.42095\n",
      "219/219 [==============================] - 1s 2ms/step - loss: 0.5134 - accuracy: 0.8319 - val_loss: 0.4336 - val_accuracy: 0.8758\n",
      "Epoch 100/100\n",
      "216/219 [============================>.] - ETA: 0s - loss: 0.4953 - accuracy: 0.8359\n",
      "Epoch 00100: val_loss did not improve from 0.42095\n",
      "219/219 [==============================] - 0s 2ms/step - loss: 0.5000 - accuracy: 0.8346 - val_loss: 0.4244 - val_accuracy: 0.8764\n",
      "Training completed in time:  0:01:02.693431\n"
     ]
    }
   ],
   "source": [
    "from keras.callbacks import ModelCheckpoint \n",
    "from datetime import datetime \n",
    "\n",
    "num_epochs = 100\n",
    "num_batch_size = 32\n",
    "\n",
    "checkpointer = ModelCheckpoint(filepath='saved_models/weights.best.basic_mlp.hdf5', \n",
    "                               verbose=1, save_best_only=True)\n",
    "start = datetime.now()\n",
    "\n",
    "model.fit(x_train, y_train, batch_size=num_batch_size, epochs=num_epochs, validation_data=(x_test, y_test), callbacks=[checkpointer], verbose=1)\n",
    "\n",
    "\n",
    "duration = datetime.now() - start\n",
    "print(\"Training completed in time: \", duration)"
   ]
  },
  {
   "cell_type": "markdown",
   "metadata": {},
   "source": [
    "### Test the model \n",
    "\n",
    "Here we will review the accuracy of the model on both the training and test data sets. "
   ]
  },
  {
   "cell_type": "code",
   "execution_count": 25,
   "metadata": {},
   "outputs": [
    {
     "name": "stdout",
     "output_type": "stream",
     "text": [
      "Training Accuracy:  0.9388689994812012\n",
      "Testing Accuracy:  0.8763594627380371\n"
     ]
    }
   ],
   "source": [
    "# Evaluating the model on the training and testing set\n",
    "score = model.evaluate(x_train, y_train, verbose=0)\n",
    "print(\"Training Accuracy: \", score[1])\n",
    "\n",
    "score = model.evaluate(x_test, y_test, verbose=0)\n",
    "print(\"Testing Accuracy: \", score[1])"
   ]
  },
  {
   "cell_type": "markdown",
   "metadata": {},
   "source": [
    "The initial Training and Testing accuracy scores are quite high. As there is not a great difference between the Training and Test scores (~5%) this suggests that the model has not suffered from overfitting. "
   ]
  },
  {
   "cell_type": "markdown",
   "metadata": {},
   "source": [
    "### Predictions  \n",
    "\n",
    "Here we will build a method which will allow us to test the models predictions on a specified audio .wav file. "
   ]
  },
  {
   "cell_type": "code",
   "execution_count": 26,
   "metadata": {},
   "outputs": [],
   "source": [
    "import librosa \n",
    "import numpy as np \n",
    "\n",
    "def extract_feature(file_name):\n",
    "   \n",
    "    try:\n",
    "        audio_data, sample_rate = librosa.load(file_name, res_type='kaiser_fast') \n",
    "        mfccs = librosa.feature.mfcc(y=audio_data, sr=sample_rate, n_mfcc=40)\n",
    "        mfccsscaled = np.mean(mfccs.T,axis=0)\n",
    "        \n",
    "    except Exception as e:\n",
    "        print(\"Error encountered while parsing file: \", file)\n",
    "        return None, None\n",
    "\n",
    "    return np.array([mfccsscaled])\n"
   ]
  },
  {
   "cell_type": "code",
   "execution_count": 27,
   "metadata": {},
   "outputs": [],
   "source": [
    "def print_prediction(file_name):\n",
    "    prediction_feature = extract_feature(file_name) \n",
    "\n",
    "    predicted_vector = model.predict_classes(prediction_feature)\n",
    "    predicted_class = le.inverse_transform(predicted_vector) \n",
    "    print(\"The predicted class is:\", predicted_class[0], '\\n') \n",
    "\n",
    "    predicted_proba_vector = model.predict_proba(prediction_feature) \n",
    "    predicted_proba = predicted_proba_vector[0]\n",
    "    for i in range(len(predicted_proba)): \n",
    "        category = le.inverse_transform(np.array([i]))\n",
    "        print(category[0], \"\\t\\t : \", format(predicted_proba[i], '.32f') )"
   ]
  },
  {
   "cell_type": "markdown",
   "metadata": {},
   "source": [
    "### Validation \n",
    "\n",
    "#### Test with sample data \n",
    "\n",
    "Initial sainity check to verify the predictions using a subsection of the sample audio files we explored in the first notebook. We expect the bulk of these to be classified correctly. "
   ]
  },
  {
   "cell_type": "code",
   "execution_count": 28,
   "metadata": {},
   "outputs": [
    {
     "name": "stdout",
     "output_type": "stream",
     "text": [
      "The predicted class is: air_conditioner \n",
      "\n",
      "air_conditioner \t\t :  0.98503690958023071289062500000000\n",
      "car_horn \t\t :  0.00063253677217289805412292480469\n",
      "children_playing \t\t :  0.00178799626883119344711303710938\n",
      "dog_bark \t\t :  0.00026157105457969009876251220703\n",
      "drilling \t\t :  0.00077542569488286972045898437500\n",
      "engine_idling \t\t :  0.00359599874354898929595947265625\n",
      "gun_shot \t\t :  0.00011406919657019898295402526855\n",
      "jackhammer \t\t :  0.00136287300847470760345458984375\n",
      "siren \t\t :  0.00001566314676892943680286407471\n",
      "street_music \t\t :  0.00641680276021361351013183593750\n"
     ]
    }
   ],
   "source": [
    "# Class: Air Conditioner\n",
    "\n",
    "filename = '../UrbanSound Dataset sample/audio/100852-0-0-0.wav' \n",
    "print_prediction(filename) "
   ]
  },
  {
   "cell_type": "code",
   "execution_count": 29,
   "metadata": {
    "scrolled": true
   },
   "outputs": [
    {
     "name": "stdout",
     "output_type": "stream",
     "text": [
      "The predicted class is: drilling \n",
      "\n",
      "air_conditioner \t\t :  0.00000000002315023867049958994357\n",
      "car_horn \t\t :  0.00000504127001477172598242759705\n",
      "children_playing \t\t :  0.00006995756848482415080070495605\n",
      "dog_bark \t\t :  0.00001750043702486436814069747925\n",
      "drilling \t\t :  0.96054077148437500000000000000000\n",
      "engine_idling \t\t :  0.00000000065668515070171906700125\n",
      "gun_shot \t\t :  0.00000000758778373466384437051602\n",
      "jackhammer \t\t :  0.00000005083144571926823118701577\n",
      "siren \t\t :  0.00000000782372033825140533735976\n",
      "street_music \t\t :  0.03936669602990150451660156250000\n"
     ]
    }
   ],
   "source": [
    "# Class: Drilling\n",
    "\n",
    "filename = '../UrbanSound Dataset sample/audio/103199-4-0-0.wav'\n",
    "print_prediction(filename) "
   ]
  },
  {
   "cell_type": "code",
   "execution_count": 30,
   "metadata": {},
   "outputs": [
    {
     "name": "stdout",
     "output_type": "stream",
     "text": [
      "The predicted class is: street_music \n",
      "\n",
      "air_conditioner \t\t :  0.00117893354035913944244384765625\n",
      "car_horn \t\t :  0.00514532066881656646728515625000\n",
      "children_playing \t\t :  0.00808414444327354431152343750000\n",
      "dog_bark \t\t :  0.01273029763251543045043945312500\n",
      "drilling \t\t :  0.01198443397879600524902343750000\n",
      "engine_idling \t\t :  0.00040718558011576533317565917969\n",
      "gun_shot \t\t :  0.00052774092182517051696777343750\n",
      "jackhammer \t\t :  0.00694827968254685401916503906250\n",
      "siren \t\t :  0.00027546731871552765369415283203\n",
      "street_music \t\t :  0.95271813869476318359375000000000\n"
     ]
    }
   ],
   "source": [
    "# Class: Street music \n",
    "\n",
    "filename = '../UrbanSound Dataset sample/audio/101848-9-0-0.wav'\n",
    "print_prediction(filename) "
   ]
  },
  {
   "cell_type": "code",
   "execution_count": 31,
   "metadata": {},
   "outputs": [
    {
     "name": "stdout",
     "output_type": "stream",
     "text": [
      "The predicted class is: street_music \n",
      "\n",
      "air_conditioner \t\t :  0.00546680530533194541931152343750\n",
      "car_horn \t\t :  0.04527015239000320434570312500000\n",
      "children_playing \t\t :  0.00671882368624210357666015625000\n",
      "dog_bark \t\t :  0.16746664047241210937500000000000\n",
      "drilling \t\t :  0.17773860692977905273437500000000\n",
      "engine_idling \t\t :  0.00290776253677904605865478515625\n",
      "gun_shot \t\t :  0.00937572214752435684204101562500\n",
      "jackhammer \t\t :  0.02390000969171524047851562500000\n",
      "siren \t\t :  0.00073731801239773631095886230469\n",
      "street_music \t\t :  0.56041806936264038085937500000000\n"
     ]
    }
   ],
   "source": [
    "# Class: Car Horn \n",
    "\n",
    "filename = '../UrbanSound Dataset sample/audio/100648-1-0-0.wav'\n",
    "print_prediction(filename) "
   ]
  },
  {
   "cell_type": "markdown",
   "metadata": {},
   "source": [
    "#### Observations \n",
    "\n",
    "From this brief sanity check the model seems to predict well. One errror was observed whereby a car horn was incorrectly classifed as a dog bark. \n",
    "\n",
    "We can see from the per class confidence that this was quite a low score (43%). This allows follows our early observation that a dog bark and car horn are similar in spectral shape. "
   ]
  },
  {
   "cell_type": "markdown",
   "metadata": {},
   "source": [
    "### Other audio\n",
    "\n",
    "Here we will use a sample of various copyright free sounds that we not part of either our test or training data to further validate our model. "
   ]
  },
  {
   "cell_type": "code",
   "execution_count": 32,
   "metadata": {},
   "outputs": [
    {
     "name": "stdout",
     "output_type": "stream",
     "text": [
      "The predicted class is: street_music \n",
      "\n",
      "air_conditioner \t\t :  0.00407737307250499725341796875000\n",
      "car_horn \t\t :  0.01589436642825603485107421875000\n",
      "children_playing \t\t :  0.02757290937006473541259765625000\n",
      "dog_bark \t\t :  0.43261671066284179687500000000000\n",
      "drilling \t\t :  0.05380324274301528930664062500000\n",
      "engine_idling \t\t :  0.00108108692802488803863525390625\n",
      "gun_shot \t\t :  0.00602692132815718650817871093750\n",
      "jackhammer \t\t :  0.00002495371154509484767913818359\n",
      "siren \t\t :  0.00835195370018482208251953125000\n",
      "street_music \t\t :  0.45055046677589416503906250000000\n"
     ]
    }
   ],
   "source": [
    "filename = '../Evaluation audio/dog_bark_1.wav'\n",
    "print_prediction(filename) "
   ]
  },
  {
   "cell_type": "code",
   "execution_count": 33,
   "metadata": {
    "scrolled": true
   },
   "outputs": [
    {
     "name": "stdout",
     "output_type": "stream",
     "text": [
      "The predicted class is: jackhammer \n",
      "\n",
      "air_conditioner \t\t :  0.06842748075723648071289062500000\n",
      "car_horn \t\t :  0.00000041934748651328845880925655\n",
      "children_playing \t\t :  0.00067422993015497922897338867188\n",
      "dog_bark \t\t :  0.00011627443745965138077735900879\n",
      "drilling \t\t :  0.11063024401664733886718750000000\n",
      "engine_idling \t\t :  0.00008019795495783910155296325684\n",
      "gun_shot \t\t :  0.00015479714784305542707443237305\n",
      "jackhammer \t\t :  0.81987762451171875000000000000000\n",
      "siren \t\t :  0.00000333510274685977492481470108\n",
      "street_music \t\t :  0.00003550315159372985363006591797\n"
     ]
    }
   ],
   "source": [
    "filename = '../Evaluation audio/drilling_1.wav'\n",
    "\n",
    "print_prediction(filename) "
   ]
  },
  {
   "cell_type": "code",
   "execution_count": 34,
   "metadata": {},
   "outputs": [
    {
     "name": "stdout",
     "output_type": "stream",
     "text": [
      "The predicted class is: street_music \n",
      "\n",
      "air_conditioner \t\t :  0.12769186496734619140625000000000\n",
      "car_horn \t\t :  0.00309055973775684833526611328125\n",
      "children_playing \t\t :  0.00840576458722352981567382812500\n",
      "dog_bark \t\t :  0.19505158066749572753906250000000\n",
      "drilling \t\t :  0.00419114856049418449401855468750\n",
      "engine_idling \t\t :  0.00659308070316910743713378906250\n",
      "gun_shot \t\t :  0.00974449887871742248535156250000\n",
      "jackhammer \t\t :  0.00004562287358567118644714355469\n",
      "siren \t\t :  0.00568220065906643867492675781250\n",
      "street_music \t\t :  0.63950371742248535156250000000000\n"
     ]
    }
   ],
   "source": [
    "filename = '../Evaluation audio/gun_shot_1.wav'\n",
    "\n",
    "print_prediction(filename) \n",
    "\n",
    "# sample data weighted towards gun shot - peak in the dog barking sample is simmilar in shape to the gun shot sample"
   ]
  },
  {
   "cell_type": "code",
   "execution_count": 35,
   "metadata": {},
   "outputs": [
    {
     "name": "stdout",
     "output_type": "stream",
     "text": [
      "The predicted class is: siren \n",
      "\n",
      "air_conditioner \t\t :  0.00000667103313389816321432590485\n",
      "car_horn \t\t :  0.00022991636069491505622863769531\n",
      "children_playing \t\t :  0.00570126995444297790527343750000\n",
      "dog_bark \t\t :  0.05127241089940071105957031250000\n",
      "drilling \t\t :  0.00003865715189022012054920196533\n",
      "engine_idling \t\t :  0.04880295693874359130859375000000\n",
      "gun_shot \t\t :  0.00522171519696712493896484375000\n",
      "jackhammer \t\t :  0.00035019431379623711109161376953\n",
      "siren \t\t :  0.88807439804077148437500000000000\n",
      "street_music \t\t :  0.00030179941677488386631011962891\n"
     ]
    }
   ],
   "source": [
    "filename = '../Evaluation audio/siren_1.wav'\n",
    "\n",
    "print_prediction(filename) "
   ]
  },
  {
   "cell_type": "markdown",
   "metadata": {},
   "source": [
    "#### Observations \n",
    "\n",
    "The performance of our initial model is satisfactorry and has generalised well, seeming to predict well when tested against new audio data. "
   ]
  },
  {
   "cell_type": "markdown",
   "metadata": {},
   "source": [
    "### *In the next notebook we will refine our model*"
   ]
  }
 ],
 "metadata": {
  "kernelspec": {
   "display_name": "Python 3",
   "language": "python",
   "name": "python3"
  },
  "language_info": {
   "codemirror_mode": {
    "name": "ipython",
    "version": 3
   },
   "file_extension": ".py",
   "mimetype": "text/x-python",
   "name": "python",
   "nbconvert_exporter": "python",
   "pygments_lexer": "ipython3",
   "version": "3.8.5"
  }
 },
 "nbformat": 4,
 "nbformat_minor": 2
}
